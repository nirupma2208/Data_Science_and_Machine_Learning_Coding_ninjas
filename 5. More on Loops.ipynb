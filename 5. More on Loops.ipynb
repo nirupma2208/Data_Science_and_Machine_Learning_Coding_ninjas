{
 "cells": [
  {
   "cell_type": "markdown",
   "id": "e924343d",
   "metadata": {},
   "source": [
    "# Terms of AP\n",
    "    Write a program to print first x terms of the series 3N + 2 which are not multiples of 4.\n",
    "    Input format :\n",
    "    Integer x\n",
    "    Output format :\n",
    "    Terms of series (separated by space)\n",
    "    Constraints :\n",
    "    1 <= x <= 1,000\n",
    "    Sample Input 1 :\n",
    "    10\n",
    "    Sample Output 1 :\n",
    "    5 11 14 17 23 26 29 35 38 41\n",
    "    Sample Input 2 :\n",
    "    4\n",
    "    Sample Output 2 :\n",
    "    5 11 14 17"
   ]
  },
  {
   "cell_type": "code",
   "execution_count": null,
   "id": "ed44650e",
   "metadata": {},
   "outputs": [],
   "source": [
    "## Read input as specified in the question.\n",
    "## Print output as specified in the question.\n",
    "n=int(input())\n",
    "count=0\n",
    "flag=True\n",
    "k=1\n",
    "while flag:\n",
    "    x=3*k+2\n",
    "    if x%4!=0:\n",
    "        print(x,end=' ')\n",
    "        count+=1\n",
    "    k+=1\n",
    "    if count==n:\n",
    "        flag=False"
   ]
  },
  {
   "cell_type": "markdown",
   "id": "c3d9c24d",
   "metadata": {},
   "source": [
    "# Sum or product\n",
    "    Write a program that asks the user for a number N and a choice C. And then give them the possibility to choose between computing the sum and computing the product of all integers in the range 1 to N (both inclusive).\n",
    "    If C is equal to -\n",
    "     1, then print the sum\n",
    "     2, then print the product\n",
    "     Any other number, then print '-1' (without the quotes)\n",
    "    Input format :\n",
    "    Line 1 : Integer N\n",
    "    Line 2 : Choice C\n",
    "    Output Format :\n",
    "     Sum or product according to user's choice\n",
    "    Constraints :\n",
    "    1 <= N <= 12\n",
    "    Sample Input 1 :\n",
    "    10\n",
    "    1\n",
    "    Sample Output 1 :\n",
    "    55\n",
    "    Sample Input 2 :\n",
    "    10\n",
    "    2\n",
    "    Sample Output 2 :\n",
    "    3628800\n",
    "    Sample Input 3 :\n",
    "    10\n",
    "    4\n",
    "    Sample Output 3 :\n",
    "    -1"
   ]
  },
  {
   "cell_type": "code",
   "execution_count": null,
   "id": "29e52072",
   "metadata": {},
   "outputs": [],
   "source": [
    "## Read input as specified in the question.\n",
    "## Print output as specified in the question.\n",
    "n=int(input())\n",
    "c=int(input())\n",
    "\n",
    "if c==1:\n",
    "    sum=0\n",
    "    for i in range(1,n+1):\n",
    "        sum+=i\n",
    "    print(sum)\n",
    "elif c==2:\n",
    "    Prod=1\n",
    "    for i in range(1,n+1):\n",
    "        Prod*=i\n",
    "    print(Prod)\n",
    "else:\n",
    "    print(-1)"
   ]
  },
  {
   "cell_type": "markdown",
   "id": "3b0149ef",
   "metadata": {},
   "source": [
    "# Square root (Integral)\n",
    "    Given a number N, find its square root. You need to find and print only the integral part of square root of N.\n",
    "    For eg. if number given is 18, answer is 4.\n",
    "    Input format :\n",
    "    Integer N\n",
    "    Output Format :\n",
    "    Square root of N (integer part only)\n",
    "    Constraints :\n",
    "    0 <= N <= 10^8\n",
    "    Sample Input 1 :\n",
    "    10\n",
    "    Sample Output 1 :\n",
    "    3\n",
    "    Sample Input 2 :\n",
    "    4\n",
    "    Sample Output 2 :\n",
    "    2"
   ]
  },
  {
   "cell_type": "code",
   "execution_count": null,
   "id": "e2decbd7",
   "metadata": {},
   "outputs": [],
   "source": [
    "## Read input as specified in the question.\n",
    "## Print output as specified in the question.\n",
    "import math\n",
    "n=int(input())\n",
    "\n",
    "print(int(math.sqrt(n)))"
   ]
  },
  {
   "cell_type": "markdown",
   "id": "aa5e7993",
   "metadata": {},
   "source": [
    "# Decimal to Binary\n",
    "    Given a decimal number (integer N), convert it into binary and print.\n",
    "    The binary number should be in the form of an integer.\n",
    "    Note: The given input number could be large, so the corresponding binary number can exceed the integer range. So you may want to take the answer as long for CPP and Java.\n",
    "\n",
    "\n",
    "    Note for C++ coders: Do not use the inbuilt implementation of \"pow\" function. The implementation of that function is done for 'double's and it may fail when used for 'int's, 'long's, or 'long long's. Implement your own \"pow\" function to work for non-float data types.\n",
    "\n",
    "\n",
    "    Input format :\n",
    "    Integer N\n",
    "    Output format :\n",
    "    Corresponding Binary number (long)\n",
    "    Constraints :\n",
    "    0 <= N <= 10^5\n",
    "    Sample Input 1 :\n",
    "    12\n",
    "    Sample Output 1 :\n",
    "    1100\n",
    "    Sample Input 2 :\n",
    "    7\n",
    "    Sample Output 2 :\n",
    "    111"
   ]
  },
  {
   "cell_type": "code",
   "execution_count": null,
   "id": "1c69d099",
   "metadata": {},
   "outputs": [],
   "source": [
    "## Read input as specified in the question.\n",
    "## Print output as specified in the question.\n",
    "\n",
    "\n",
    "num=int(input())\n",
    "print(int(bin(num)[2:]))\n",
    "\n"
   ]
  },
  {
   "cell_type": "markdown",
   "id": "da385d02",
   "metadata": {},
   "source": [
    "# Binary to decimal\n",
    "    iven a binary number as an integer N, convert it into decimal and print.\n",
    "    Input format :\n",
    "    An integer N in the Binary Format\n",
    "    Output format :\n",
    "    Corresponding Decimal number (as integer)\n",
    "    Constraints :\n",
    "    0 <= N <= 10^9\n",
    "    Sample Input 1 :\n",
    "    1100\n",
    "    Sample Output 1 :\n",
    "    12\n",
    "    Sample Input 2 :\n",
    "    111\n",
    "    Sample Output 2 :\n",
    "    7"
   ]
  },
  {
   "cell_type": "code",
   "execution_count": null,
   "id": "53e2af02",
   "metadata": {},
   "outputs": [],
   "source": [
    "## Read input as specified in the question.\n",
    "## Print output as specified in the question.\n",
    "num=int(input())\n",
    "i=0\n",
    "sum=0\n",
    "while num!=0:\n",
    "    r=num%10\n",
    "    sum+=r*(2**i)\n",
    "    num=num//10\n",
    "    i+=1\n",
    "print(sum)"
   ]
  },
  {
   "cell_type": "markdown",
   "id": "e7547248",
   "metadata": {},
   "source": [
    "# Even Fibonacci Numbers\n",
    "    Given a number N find the sum of all the even valued terms in the fibonacci sequence less than or equal to N. Try generating only even fibonacci numbers instead of iterating over all Fibonacci numbers.\n",
    "    Input Format\n",
    "    Line 1 : An integer N\n",
    "    Output Format\n",
    "    Total Sum\n",
    "    Input Constraints\n",
    "    1 <= N <= 10^6\n",
    "    Sample Input 1:\n",
    "    8\n",
    "    Sample Output 1 :\n",
    "    10\n",
    "    Sample Input 2:\n",
    "    400\n",
    "    Sample Output 2:\n",
    "    188"
   ]
  },
  {
   "cell_type": "code",
   "execution_count": null,
   "id": "eaf31e1f",
   "metadata": {},
   "outputs": [],
   "source": [
    "num=int(input())\n",
    "\n",
    "a=0\n",
    "b=1\n",
    "sum=0\n",
    "c=0\n",
    "while c<=num:\n",
    "    c=a+b\n",
    "    if c>=num:\n",
    "        break\n",
    "    if c%2==0:\n",
    "        sum+=c\n",
    "    a=b\n",
    "    b=c\n",
    "\n",
    "    \n",
    "print(sum)\n",
    "\n"
   ]
  },
  {
   "cell_type": "markdown",
   "id": "e03ff4b8",
   "metadata": {},
   "source": [
    "# Trailing zeroes in n!\n",
    "    Find and return number of trailing 0s in n factorial without calculating n factorial.\n",
    "    Sample Input\n",
    "    50\n",
    "    Sample Output\n",
    "    12\n",
    "    Input Size Limit\n",
    "    n < 10^11"
   ]
  },
  {
   "cell_type": "code",
   "execution_count": null,
   "id": "787e80c3",
   "metadata": {},
   "outputs": [],
   "source": [
    "n=int(input())\n",
    "if(n < 0):\n",
    "    print(-1)\n",
    "\n",
    "count = 0\n",
    "\n",
    "while(n >= 5):\n",
    "    n //= 5\n",
    "    count += n\n",
    "\n",
    "print(count)"
   ]
  }
 ],
 "metadata": {
  "kernelspec": {
   "display_name": "Python 3 (ipykernel)",
   "language": "python",
   "name": "python3"
  },
  "language_info": {
   "codemirror_mode": {
    "name": "ipython",
    "version": 3
   },
   "file_extension": ".py",
   "mimetype": "text/x-python",
   "name": "python",
   "nbconvert_exporter": "python",
   "pygments_lexer": "ipython3",
   "version": "3.10.4"
  },
  "varInspector": {
   "cols": {
    "lenName": 16,
    "lenType": 16,
    "lenVar": 40
   },
   "kernels_config": {
    "python": {
     "delete_cmd_postfix": "",
     "delete_cmd_prefix": "del ",
     "library": "var_list.py",
     "varRefreshCmd": "print(var_dic_list())"
    },
    "r": {
     "delete_cmd_postfix": ") ",
     "delete_cmd_prefix": "rm(",
     "library": "var_list.r",
     "varRefreshCmd": "cat(var_dic_list()) "
    }
   },
   "types_to_exclude": [
    "module",
    "function",
    "builtin_function_or_method",
    "instance",
    "_Feature"
   ],
   "window_display": false
  }
 },
 "nbformat": 4,
 "nbformat_minor": 5
}
