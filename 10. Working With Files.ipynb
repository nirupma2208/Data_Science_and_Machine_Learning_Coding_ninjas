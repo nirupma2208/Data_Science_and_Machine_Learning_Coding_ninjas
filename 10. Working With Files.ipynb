{
 "cells": [
  {
   "cell_type": "markdown",
   "id": "e9068e74",
   "metadata": {},
   "source": [
    "# Print 100 Bytes\n",
    "    Given file \"Sample.txt\"\n",
    "    Open the file\n",
    "    Read the first 100 bytes of file and print them."
   ]
  },
  {
   "cell_type": "code",
   "execution_count": null,
   "id": "9e029cac",
   "metadata": {},
   "outputs": [],
   "source": [
    "with open('Sample.txt','r') as file:\n",
    "    print(file.read(100))"
   ]
  },
  {
   "cell_type": "markdown",
   "id": "a7f81df3",
   "metadata": {},
   "source": [
    "# Print 5 lines\n",
    "    Given file \"Sample.txt\"\n",
    "    Open the file\n",
    "    Read the first 5 lines from file and print them (in separate lines).\n",
    "    Output Format :\n",
    "    Line 1\n",
    "    Line 2\n",
    "    Line 3\n",
    "    Line 4\n",
    "    Line 5"
   ]
  },
  {
   "cell_type": "code",
   "execution_count": null,
   "id": "90cbda8b",
   "metadata": {},
   "outputs": [],
   "source": [
    "## Open and read data file as specified in the question\n",
    "## Print the required output in given format\n",
    "with open('Sample.txt','r') as file:\n",
    "    for i in range(5):\n",
    "        print(file.readline())"
   ]
  },
  {
   "cell_type": "markdown",
   "id": "bb99f700",
   "metadata": {},
   "source": [
    "# Print 5 Lines (Readlines)\n",
    "    Given file \"Sample.txt\"\n",
    "    Open the file\n",
    "    Read the first 5 lines from file and print them.\n",
    "    Note : Use readlines() method only\n",
    "    Output Format :\n",
    "    Line 1\n",
    "    Line 2\n",
    "    Line 3\n",
    "    Line 4\n",
    "    Line 5"
   ]
  },
  {
   "cell_type": "code",
   "execution_count": null,
   "id": "d51739d5",
   "metadata": {},
   "outputs": [],
   "source": [
    "## Open and read data file as specified in the question\n",
    "## Print the required output in given format\n",
    "with open('Sample.txt','r') as file:\n",
    "    fileData=file.readlines()\n",
    "for i in range(5):\n",
    "    print(fileData[i])"
   ]
  },
  {
   "cell_type": "markdown",
   "id": "44859bc3",
   "metadata": {},
   "source": [
    "# First 3 lines\n",
    "    Given file \"year2017.csv\"\n",
    "    It is an open-source database including information on terrorist attacks around the world from 1970 through 2017. This dataset includes systematic data on domestic as well as international terrorist incidents that have occurred during this time period\n",
    "    Problem Statement :\n",
    "    Open and read the file\n",
    "    Print the first 3 rows of the file, excluding header (in different lines)\n",
    "    Print columns of one row, separated by space\n",
    "    Output Format :\n",
    "    col_1 col_2 col_3 col_4 ....\n",
    "    col_1 col_2 col_3 col_4 ....\n",
    "    col_1 col_2 col_3 col_4 ...."
   ]
  },
  {
   "cell_type": "code",
   "execution_count": null,
   "id": "b40efe3d",
   "metadata": {},
   "outputs": [],
   "source": [
    "## Print the required output in given format\n",
    "with open('year2017.csv','r') as file_obj:\n",
    "    \n",
    "    file_list = file_obj.readlines()\n",
    "    \n",
    "for i in file_list[1:4]:\n",
    "   print(i.replace(',',' ').replace('\"',' '),end='') "
   ]
  },
  {
   "cell_type": "markdown",
   "id": "ec12da01",
   "metadata": {},
   "source": [
    "# Print all column names\n",
    "    Given file \"year2017.csv\"\n",
    "    It is an open-source database including information on terrorist attacks around the world from 1970 through 2017. This dataset includes systematic data on domestic as well as international terrorist incidents that have occurred during this time period\n",
    "    Problem Statement :\n",
    "    Open and read the file\n",
    "    Print the name of columns (in different lines)\n",
    "    Output Format :\n",
    "    Column 1\n",
    "    Column 2\n",
    "    Column 3\n",
    "    and so on\n"
   ]
  },
  {
   "cell_type": "code",
   "execution_count": null,
   "id": "a8187903",
   "metadata": {},
   "outputs": [],
   "source": [
    "## Open and read data file as specified in the question\n",
    "## Print the required output in given format\n",
    "import csv\n",
    "with open('year2017.csv') as file_obj:\n",
    "    file_data = csv.reader(file_obj)\n",
    "    file_data = list(file_data)\n",
    "    for i in file_data[0]:\n",
    "        print(i)"
   ]
  },
  {
   "cell_type": "markdown",
   "id": "cbf6a341",
   "metadata": {},
   "source": [
    "# Country Names\n",
    "    Given file \"year2017.csv\"\n",
    "    It is an open-source database including information on terrorist attacks around the world from 1970 through 2017. This dataset includes systematic data on domestic as well as international terrorist incidents that have occurred during this time period\n",
    "    Problem Statement :\n",
    "    Open and read the file\n",
    "    Print the country names from first 10 rows (in different lines)\n",
    "    Output Format :\n",
    "    Country 1\n",
    "    Country 2\n",
    "    Country 3\n",
    "    and so on\n"
   ]
  },
  {
   "cell_type": "code",
   "execution_count": null,
   "id": "9f999b56",
   "metadata": {},
   "outputs": [],
   "source": [
    "## Open and read data file as specified in the question\n",
    "## Print the required output in given format\n",
    "import csv\n",
    "with open('year2017.csv') as file_obj:\n",
    "    file_data = csv.reader(file_obj)\n",
    "    file_data = list(file_data)\n",
    "    for i in file_data[1:11]:\n",
    "        print(i[3])"
   ]
  },
  {
   "cell_type": "markdown",
   "id": "ad267b70",
   "metadata": {},
   "source": [
    "# Total Wounded People\n",
    "    Given file \"year2017.csv\"\n",
    "    It is an open-source database including information on terrorist attacks around the world in 2017. This dataset includes systematic data on domestic as well as international terrorist incidents that have occurred during this time period\n",
    "    Problem Statement :\n",
    "    Find and print the total number of wounded people.\n",
    "    Print the count as integer value.\n",
    "    Note : There can be missing values in \"Wounded\" column. You should try to print the values of \"Wounded\" column and observe.\n",
    "    Output Format :\n",
    "    Count\n"
   ]
  },
  {
   "cell_type": "code",
   "execution_count": null,
   "id": "9a532d1b",
   "metadata": {},
   "outputs": [],
   "source": [
    "## Open and read data file as specified in the question\n",
    "## Print the required output in given format\n",
    "import csv\n",
    "with open('year2017.csv') as file_obj:\n",
    "    file_data = csv.reader(file_obj)\n",
    "    file_data = list(file_data)\n",
    "    Wounded=[]\n",
    "    for i in file_data[1:]:\n",
    "        val=i[10]\n",
    "        if val !='':\n",
    "           Wounded.append(float(val)) \n",
    "print(inr(sum(Wounded)))"
   ]
  },
  {
   "cell_type": "markdown",
   "id": "a35890cb",
   "metadata": {},
   "source": [
    "# Total Wounded from India\n",
    "    Given file \"year2017.csv\"\n",
    "    It is an open-source database including information on terrorist attacks around the world in 2017. This dataset includes systematic data on domestic as well as international terrorist incidents that have occurred during this time period\n",
    "    Problem Statement :\n",
    "    Find and print the total number of wounded people who are from country \"India\".\n",
    "    Print the count as integer value.\n",
    "    Note : There can be missing values in \"Wounded\" column. You should try to print the values of \"Wounded\" column and observe.\n",
    "    Output Format :\n",
    "    Count"
   ]
  },
  {
   "cell_type": "code",
   "execution_count": null,
   "id": "9734bf81",
   "metadata": {},
   "outputs": [],
   "source": [
    "## Open and read data file as specified in the question\n",
    "## Print the required output in given format\n",
    "import csv\n",
    "with open('year2017.csv') as file_obj:\n",
    "    file_data = csv.reader(file_obj)\n",
    "    file_data = list(file_data)\n",
    "    Wounded=[]\n",
    "    for i in file_data[1:]:\n",
    "        val=i[10]\n",
    "        if i[3]=='India':\n",
    "            if val !='':\n",
    "               Wounded.append(float(val)) \n",
    "print(int(sum(Wounded)))"
   ]
  },
  {
   "cell_type": "markdown",
   "id": "6420c701",
   "metadata": {},
   "source": [
    "# Casualties from Explosives\n",
    "    Given file \"year2017.csv\"\n",
    "    It is an open-source database including information on terrorist attacks around the world in 2017. This dataset includes systematic data on domestic as well as international terrorist incidents that have occurred during this time period\n",
    "    Problem Statement :\n",
    "    Find and print total number of casualties with “Explosives” Weapon_type.\n",
    "    Print the count as integer value.\n",
    "    Note : There can be missing values in \"casualties\" column and there are some initial spaces present in every value. You should try to print the values and observe.\n",
    "    Output Format :\n",
    "    Count"
   ]
  },
  {
   "cell_type": "code",
   "execution_count": null,
   "id": "5b67f30c",
   "metadata": {},
   "outputs": [],
   "source": [
    "## Open and read data file as specified in the question\n",
    "## Print the required output in given format\n",
    "import csv\n",
    "with open('year2017.csv') as file_obj:\n",
    "    file_data = csv.DictReader(file_obj,skipinitialspace=True)\n",
    "    # file_data = list(file_data)\n",
    "    casualities=[]\n",
    "    for i in file_data:\n",
    "        # print(i)\n",
    "        val=i['casualities']\n",
    "        if i['Weapon_type']=='Explosives':\n",
    "            if val !='':\n",
    "                    # print(float(val))\n",
    "                casualities.append(float(val))\n",
    "print(int(sum(casualities)))"
   ]
  },
  {
   "cell_type": "markdown",
   "id": "9d668c1e",
   "metadata": {},
   "source": [
    "# Month vs Killed\n",
    "    Given file \"year2017.csv\"\n",
    "    It is an open-source database including information on terrorist attacks around the world in 2017. This dataset includes systematic data on domestic as well as international terrorist incidents that have occurred during this time period\n",
    "    Problem Statement :\n",
    "    Find the total number people killed in each month.\n",
    "    Print the month and count of killed people as integer value.\n",
    "    Output Format :\n",
    "    Month_1 Count_1\n",
    "    Month_2 Count_2\n",
    "    Month_3 Count_3\n",
    "    and so on"
   ]
  },
  {
   "cell_type": "code",
   "execution_count": null,
   "id": "c32c428b",
   "metadata": {},
   "outputs": [],
   "source": [
    "## Open and read data file as specified in the question\n",
    "## Print the required output in given format\n",
    "import csv\n",
    "with open('year2017.csv') as file_obj:\n",
    "    file_data = csv.DictReader(file_obj,skipinitialspace=True)\n",
    "    file_list=list(file_data)\n",
    "people_killed = {}\n",
    "for row in file_list :\n",
    "    key = row['Month']\n",
    "    value = row['Killed']\n",
    "    \n",
    "    if value != '' :\n",
    "        value = int(float(value))\n",
    "    else :\n",
    "        value = 0\n",
    "        \n",
    "    if key in people_killed :\n",
    "        people_killed[key] += value\n",
    "    else :\n",
    "        people_killed[key] = value\n",
    "for key,val in people_killed.items():\n",
    "    print(key,val)"
   ]
  },
  {
   "cell_type": "markdown",
   "id": "af0f9bbe",
   "metadata": {},
   "source": [
    "# Country vs Casualties\n",
    "    Given file \"year2017.csv\"\n",
    "    It is an open-source database including information on terrorist attacks around the world in 2017. This dataset includes systematic data on domestic as well as international terrorist incidents that have occurred during this time period\n",
    "    Problem Statement :\n",
    "    Find total number of casualties in each country.\n",
    "    Print number of casualties as integer value.\n",
    "    Note : For any missing value of casualty column, take 0 as value\n",
    "    Output Format :\n",
    "    country_1 casualties_1\n",
    "    country_2 casualties_2\n",
    "    country_3 casualties_3\n",
    "    and so on"
   ]
  },
  {
   "cell_type": "code",
   "execution_count": null,
   "id": "dd5c55e2",
   "metadata": {},
   "outputs": [],
   "source": [
    "## Open and read data file as specified in the question\n",
    "## Print the required output in given format\\\n",
    "import csv\n",
    "with open('year2017.csv') as file_obj:\n",
    "    file_data = csv.DictReader(file_obj,skipinitialspace=True)\n",
    "    file_list=list(file_data)\n",
    "people_killed = {}\n",
    "for row in file_list :\n",
    "    key = row['Country']\n",
    "    value = row['casualities']\n",
    "    \n",
    "    if value != '' :\n",
    "        value = int(float(value))\n",
    "    else :\n",
    "        value = 0\n",
    "        \n",
    "    if key in people_killed :\n",
    "        people_killed[key] += value\n",
    "    else :\n",
    "        people_killed[key] = value\n",
    "for key,val in people_killed.items():\n",
    "    print(key,val)\n"
   ]
  },
  {
   "cell_type": "markdown",
   "id": "904414e9",
   "metadata": {},
   "source": [
    "# Job Location\n",
    "    Given File 'amazonjobsdataset.csv'\n",
    "    It is a dataset including information on amazon job opening around the world from June 2011 to March 2018. This dataset is collected using Selenium and BeautifulSoup by scraping all of the jobs for Amazon job site.\n",
    "    Problem Statement :\n",
    "    Find number of job openings in Bangalore,IN and in Seattle,US?\n",
    "    Print the Number of Job opening in Bangalore and Seattle as Integer value.\n",
    "    Output Format :\n",
    "    CountBangalore CountSeattle"
   ]
  },
  {
   "cell_type": "code",
   "execution_count": null,
   "id": "94535701",
   "metadata": {},
   "outputs": [],
   "source": [
    "## Open and read data file as specified in the question\n",
    "## Print the required output in given format\n",
    "import csv\n",
    "with open('amazon_jobs_dataset.csv') as file_obj:\n",
    "    file_data = csv.DictReader(file_obj,skipinitialspace=True)\n",
    "    file_list=list(file_data)\n",
    "Bangalore  = 0\n",
    "Seattle =0\n",
    "for row in file_list :\n",
    "    key = row['location']\n",
    "    data = key.split(', ')\n",
    "    for i in data:\n",
    "        if i.strip()=='Bangalore':\n",
    "            Bangalore+=1\n",
    "        if i.strip()=='Seattle':\n",
    "            Seattle+=1\n",
    "            \n",
    "print(Bangalore,Seattle)\n"
   ]
  },
  {
   "cell_type": "markdown",
   "id": "d15bba08",
   "metadata": {},
   "source": [
    "# Job Computer Vision\n",
    "    Given File 'amazonjobsdataset.csv'\n",
    "    It is a dataset including information on amazon job opening around the world from June 2011 to March 2018. This dataset is collected using Selenium and BeautifulSoup by scraping all of the jobs for Amazon job site.\n",
    "    Problem Statement :\n",
    "    What are the total number of job openings related to Computer Vision ?\n",
    "    Note:For finding the job related to computer vision check the Job Title column.\n",
    "    Print the count as the Integer Value\n",
    "    Output Format :\n",
    "    Count\n"
   ]
  },
  {
   "cell_type": "code",
   "execution_count": null,
   "id": "ab7a935b",
   "metadata": {},
   "outputs": [],
   "source": [
    "## Open and read data file as specified in the question\n",
    "## Print the required output in given format\n",
    "import csv\n",
    "with open('amazon_jobs_dataset.csv') as file_obj:\n",
    "    file_data = csv.DictReader(file_obj,skipinitialspace=True)\n",
    "    file_list=list(file_data)\n",
    "count=0  \n",
    "for row in file_list:\n",
    "    Title = row['Title']\n",
    "    if 'Computer Vision' in Title:\n",
    "        count+=1\n",
    "print(count)\n"
   ]
  },
  {
   "cell_type": "markdown",
   "id": "832a264a",
   "metadata": {},
   "source": [
    "# Job Canada\n",
    "    Given File 'amazonjobsdataset.csv'\n",
    "    It is a dataset including information on amazon job opening around the world from June 2011 to March 2018. This dataset is collected using Selenium and BeautifulSoup by scraping all of the jobs for Amazon job site.\n",
    "    Problem Statement :\n",
    "    Find the number of job openings in Canada?\n",
    "    Print the count as the Integer Value\n",
    "    Note: Here you should analyse the country code in location feature.( you can use dictionary for analyse part ).\n",
    "    Output Format :\n",
    "    Count"
   ]
  },
  {
   "cell_type": "code",
   "execution_count": null,
   "id": "ba0422ad",
   "metadata": {},
   "outputs": [],
   "source": [
    "\n",
    "  \n",
    "import csv\n",
    "with open('amazon_jobs_dataset.csv') as file_obj:\n",
    "    file_data = csv.DictReader(file_obj, skipinitialspace = True)\n",
    "    file_list = list(file_data)\n",
    "count = 0    \n",
    "for row in file_list:\n",
    "    if row['location'].split(',')[0] == 'CA':\n",
    "        count += 1\n",
    "print(count)"
   ]
  },
  {
   "cell_type": "markdown",
   "id": "04e2cb52",
   "metadata": {},
   "source": [
    "# Job Month 2018\n",
    "    Given File 'amazonjobsdataset.csv'\n",
    "    It is a dataset including information on amazon job opening around the world from June 2011 to March 2018. This dataset is collected using Selenium and BeautifulSoup by scraping all of the jobs for Amazon job site.\n",
    "    Problem Statement :\n",
    "    Find the month having most job openings in Year 2018 ?\n",
    "    Print the month (Month Name i.e January, February, March) and Number of job opening as Integer Value\n",
    "    Output Format :\n",
    "    MonthName Count"
   ]
  },
  {
   "cell_type": "code",
   "execution_count": null,
   "id": "2e9357b5",
   "metadata": {},
   "outputs": [],
   "source": [
    "import csv\n",
    "with open('amazon_jobs_dataset.csv',encoding='utf-8') as file_obj:\n",
    "    file_data = csv.DictReader(file_obj,skipinitialspace=True)\n",
    "    file_list=list(file_data)\n",
    "d={'January':0,'February':0,'March':0}\n",
    "for row in file_list :\n",
    "    rowData = row['Posting_date']\n",
    "    Month = rowData.split(' ')[0]\n",
    "    Year  = rowData.split(' ')[-1]\n",
    "    if Year=='2018':\n",
    "        d[Month]+=1\n",
    "       \n",
    "\n",
    "value=0\n",
    "for key,val in d.items():\n",
    "    if val>value:\n",
    "        value=val\n",
    "        ans_key=key\n",
    "print(ans_key,value)    "
   ]
  },
  {
   "cell_type": "markdown",
   "id": "be2c782a",
   "metadata": {},
   "source": [
    "# Job Degree\n",
    "    Given File 'amazonjobsdataset.csv'\n",
    "    It is a dataset including information on amazon job opening around the world from June 2011 to March 2018. This dataset is collected using Selenium and BeautifulSoup by scraping all of the jobs for Amazon job site.\n",
    "    Problem Statement :\n",
    "    Find the number of job openings are present if applicant have Bachelor degree?\n",
    "    Print the count as Integer value\n",
    "    Note : Here we will use the BASIC QUALIFICATIONS feature to find out whether bachelor degree for Job is required or not. Keywords that can be used are 'Bachelor', 'BS' and 'BA'.\n",
    "    Output Format :\n",
    "    Count\n"
   ]
  },
  {
   "cell_type": "code",
   "execution_count": null,
   "id": "5920a07a",
   "metadata": {},
   "outputs": [],
   "source": [
    "## Open and read data file as specified in the question\n",
    "## Print the required output in given format\n",
    "import csv\n",
    "with open('amazon_jobs_dataset.csv') as file_obj:\n",
    "    file_data = csv.DictReader(file_obj,skipinitialspace=True)\n",
    "    file_list=list(file_data)\n",
    "# Canada  = 0\n",
    "# month=['January', 'February', 'March', 'April', 'May', 'June', 'July', 'August', 'September', 'October', 'November',  'December']\n",
    "count=0\n",
    "for row in file_list :\n",
    "    key = row['BASIC QUALIFICATIONS']\n",
    "    if 'Bachelor' in key or 'BA' in key or 'BS' in key:\n",
    "        count+=1\n",
    "print(count)"
   ]
  },
  {
   "cell_type": "markdown",
   "id": "609f4077",
   "metadata": {},
   "source": [
    "# Job Language\n",
    "    Given File 'amazonjobsdataset.csv'\n",
    "    It is a dataset including information on amazon job opening around the world from June 2011 to March 2018. This dataset is collected using Selenium and BeautifulSoup by scraping all of the jobs for Amazon job site.\n",
    "    Problem Statement :\n",
    "    Among Java, C++ and Python, which of the language has more job openings in India for Bachelor Degree Holder?\n",
    "    Print the Language(i.e Java,C++,Python) and number of job opening as integer value.\n",
    "    Note : Here we will use the BASIC QUALIFICATIONS feature to find out whether bachelor degree for Job is required or not. Keywords that can be used are 'Bachelor', 'BS' and 'BA' and we will use the BASIC QUALIFICATIONS feature to find out whether Language is required for the job or not.Keywords that is used for language searching are 'Java','C++' or 'Python'.(There case should not be changed).\n",
    "    Output Format :\n",
    "    Language Count\n"
   ]
  },
  {
   "cell_type": "code",
   "execution_count": null,
   "id": "9934afd7",
   "metadata": {},
   "outputs": [],
   "source": [
    "## Open and read data file as specified in the question\n",
    "## Print the required output in given format\n",
    "import csv\n",
    "with open('amazon_jobs_dataset.csv') as file_obj:\n",
    "    file_data = csv.DictReader(file_obj,skipinitialspace=True)\n",
    "    file_list=list(file_data)\n",
    "\n",
    "d={'Java':0,'C++':0,'Python':0}\n",
    "for row in file_list :\n",
    "    country = row['location'].split(',')[0]\n",
    "    key = row['BASIC QUALIFICATIONS']\n",
    "    if 'IN' == country:\n",
    "        if ('Bachelor' in key or 'BA' in key or 'BS' in key) and 'Java' in key:\n",
    "            d['Java']+=1\n",
    "        if ('Bachelor' in key or 'BA' in key or 'BS' in key) and 'C++' in key:\n",
    "            d['C++']+=1\n",
    "        \n",
    "        if ('Bachelor' in key or 'BA' in key or 'BS' in key) and 'Python' in key:\n",
    "            d['Python']+=1\n",
    "    \n",
    "    \n",
    "value=0\n",
    "ans_key=None\n",
    "for key,val in d.items():\n",
    "    if val>value:\n",
    "        value=val\n",
    "        ans_key=key\n",
    "print(ans_key,value)"
   ]
  },
  {
   "cell_type": "markdown",
   "id": "0cb5cf23",
   "metadata": {},
   "source": [
    "# Job Java\n",
    "    Given File 'amazonjobsdataset.csv'\n",
    "    It is a dataset including information on amazon job opening around the world from June 2011 to March 2018. This dataset is collected using Selenium and BeautifulSoup by scraping all of the jobs for Amazon job site.\n",
    "    Problem Statement :\n",
    "    Find the country does Amazon need the most number of Java Developer?\n",
    "    Print the Country(Country Shortcut as given in Dataset) and number of job opening as integer value\n",
    "    Note :Here we will use the BASIC QUALIFICATIONS feature to find out whether Java is required for the job or not.Keyword is used is 'Java'.(Here case should not be changed).\n",
    "\n",
    "\n",
    "    Output Format :\n",
    "\n",
    "\n",
    "    Country NumberofJobs\n",
    "    For example : US 40"
   ]
  },
  {
   "cell_type": "code",
   "execution_count": null,
   "id": "cc35dce8",
   "metadata": {},
   "outputs": [],
   "source": [
    "## Open and read data file as specified in the question\n",
    "## Print the required output in given format\n",
    "import csv\n",
    "with open('amazon_jobs_dataset.csv') as file_obj:\n",
    "    file_data = csv.DictReader(file_obj,skipinitialspace=True)\n",
    "    file_list=list(file_data)\n",
    "\n",
    "CountryDict={}\n",
    "for row in file_list :\n",
    "    \n",
    "    Lang = row['BASIC QUALIFICATIONS']\n",
    "    country = row['location']\n",
    "    if 'Java' in Lang:\n",
    "        data= country.split(',')[0]\n",
    "        \n",
    "        if data in CountryDict:\n",
    "            CountryDict[data]+=1\n",
    "        else:\n",
    "            CountryDict[data]=1\n",
    "                    \n",
    "# print(CountryDict)\n",
    "value=0\n",
    "for key,val in CountryDict.items():\n",
    "    if val>value:\n",
    "        value=val\n",
    "        ans_key=key\n",
    "print(ans_key,value) \n"
   ]
  }
 ],
 "metadata": {
  "kernelspec": {
   "display_name": "Python 3 (ipykernel)",
   "language": "python",
   "name": "python3"
  },
  "language_info": {
   "codemirror_mode": {
    "name": "ipython",
    "version": 3
   },
   "file_extension": ".py",
   "mimetype": "text/x-python",
   "name": "python",
   "nbconvert_exporter": "python",
   "pygments_lexer": "ipython3",
   "version": "3.10.4"
  },
  "varInspector": {
   "cols": {
    "lenName": 16,
    "lenType": 16,
    "lenVar": 40
   },
   "kernels_config": {
    "python": {
     "delete_cmd_postfix": "",
     "delete_cmd_prefix": "del ",
     "library": "var_list.py",
     "varRefreshCmd": "print(var_dic_list())"
    },
    "r": {
     "delete_cmd_postfix": ") ",
     "delete_cmd_prefix": "rm(",
     "library": "var_list.r",
     "varRefreshCmd": "cat(var_dic_list()) "
    }
   },
   "types_to_exclude": [
    "module",
    "function",
    "builtin_function_or_method",
    "instance",
    "_Feature"
   ],
   "window_display": false
  }
 },
 "nbformat": 4,
 "nbformat_minor": 5
}
