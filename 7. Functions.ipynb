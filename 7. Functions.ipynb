{
 "cells": [
  {
   "cell_type": "markdown",
   "id": "8d3f8d85",
   "metadata": {},
   "source": [
    "# Fahrenheit To Celsius\n",
    "    Given three values - Start Fahrenheit Value (S), End Fahrenheit value (E) and Step Size (W), you need to convert all Fahrenheit values from Start to End at the gap of W, into their corresponding Celsius values and print the table.\n",
    "    Input Format :\n",
    "    3 integers - S, E and W respectively\n",
    "    Output Format :\n",
    "    Fahrenheit to Celsius conversion table. One line for every Fahrenheit and Celsius Fahrenheit value. Fahrenheit value and its corresponding Celsius value should be separate by tab (\"\\t\")\n",
    "    Constraints :\n",
    "    0 <= S <= 1000\n",
    "    0 <= E <= 1000\n",
    "    0 <= W <= 1000\n",
    "    Sample Input 1:\n",
    "    0 \n",
    "    100 \n",
    "    20\n",
    "    Sample Output 1:\n",
    "    0   -17\n",
    "    20  -6\n",
    "    40  4\n",
    "    60  15\n",
    "    80  26\n",
    "    100 37\n",
    "    Sample Input 2:\n",
    "    120 \n",
    "    200 \n",
    "    40\n",
    "    Sample Output 2:\n",
    "    120 48\n",
    "    160 71\n",
    "    200 93\n",
    "    Explanation for Sample Output 2 :\n",
    "    Start value is 120, end value is 200 and step size is 40. Therefore, the values we need to convert are 120, 120 + 40 = 160, and 160 + 40 = 200. \n",
    "    The formula for converting Fahrenheit to Celsius is:\n",
    "    Celsius Value = (5/9)*(Fahrenheit Value - 32)  \n",
    "    Plugging 120 into the formula, the celsius value will be (5 / 9)*(120 - 32) => (5 / 9) * 88 => (5 * 88) / 9 => 440 / 9 => 48.88\n",
    "    But we'll only print 48 because we are only interested in the integral part of the value."
   ]
  },
  {
   "cell_type": "code",
   "execution_count": null,
   "id": "e5e1d1a4",
   "metadata": {},
   "outputs": [],
   "source": [
    "    \n",
    "\n",
    "\n",
    "def printTable(start,end,step):\n",
    "#Implement Your Code Here\n",
    "    for i in range(start,end,step):\n",
    "        print(i,int((i - 32) * 5/9 ))\n",
    "    \n",
    "\n",
    "\t   \n",
    "s = int(input())\n",
    "e = int(input())\n",
    "step = int(input())\n",
    "printTable(s,e,step)\n",
    "\n",
    "\n",
    "\n",
    "\n",
    "\n"
   ]
  },
  {
   "cell_type": "markdown",
   "id": "6049b832",
   "metadata": {},
   "source": [
    "# Fibonacci Member\n",
    "    Given a number N, figure out if it is a member of fibonacci series or not. Return true if the number is member of fibonacci series else false.\n",
    "    Fibonacci Series is defined by the recurrence\n",
    "        F(n) = F(n-1) + F(n-2)\n",
    "    where F(0) = 0 and F(1) = 1\n",
    "\n",
    "\n",
    "    Input Format :\n",
    "    Integer N\n",
    "    Output Format :\n",
    "    true or false\n",
    "    Constraints :\n",
    "    0 <= n <= 10^4\n",
    "    Sample Input 1 :\n",
    "    5\n",
    "    Sample Output 1 :\n",
    "    true\n",
    "    Sample Input 2 :\n",
    "    14\n",
    "    Sample Output 2 :\n",
    "    false    "
   ]
  },
  {
   "cell_type": "code",
   "execution_count": null,
   "id": "b168dd7d",
   "metadata": {},
   "outputs": [],
   "source": [
    "\n",
    "def checkMember(n):\n",
    "#Implement Your Code Here\n",
    "    pass\n",
    "    a = 0\n",
    "    b = 1\n",
    "    if (n==a or n==b):\n",
    "        return True\n",
    "    c = a+b\n",
    "    while(c<=n):\n",
    "  \n",
    "        if(c == n):\n",
    "            return True\n",
    "        a = b\n",
    "        b = c\n",
    "        c = a + b\n",
    "   \n",
    "    return False\n",
    "\n",
    "n=int(input())\n",
    "if(checkMember(n)):\n",
    "    print(\"true\")\n",
    "else:\n",
    "    print(\"false\")"
   ]
  }
 ],
 "metadata": {
  "kernelspec": {
   "display_name": "Python 3 (ipykernel)",
   "language": "python",
   "name": "python3"
  },
  "language_info": {
   "codemirror_mode": {
    "name": "ipython",
    "version": 3
   },
   "file_extension": ".py",
   "mimetype": "text/x-python",
   "name": "python",
   "nbconvert_exporter": "python",
   "pygments_lexer": "ipython3",
   "version": "3.10.4"
  },
  "varInspector": {
   "cols": {
    "lenName": 16,
    "lenType": 16,
    "lenVar": 40
   },
   "kernels_config": {
    "python": {
     "delete_cmd_postfix": "",
     "delete_cmd_prefix": "del ",
     "library": "var_list.py",
     "varRefreshCmd": "print(var_dic_list())"
    },
    "r": {
     "delete_cmd_postfix": ") ",
     "delete_cmd_prefix": "rm(",
     "library": "var_list.r",
     "varRefreshCmd": "cat(var_dic_list()) "
    }
   },
   "types_to_exclude": [
    "module",
    "function",
    "builtin_function_or_method",
    "instance",
    "_Feature"
   ],
   "window_display": false
  }
 },
 "nbformat": 4,
 "nbformat_minor": 5
}
